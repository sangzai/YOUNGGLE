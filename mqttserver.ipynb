{
 "cells": [
  {
   "cell_type": "code",
   "execution_count": 4,
   "id": "2ea5ed47",
   "metadata": {
    "scrolled": true
   },
   "outputs": [
    {
     "name": "stdout",
     "output_type": "stream",
     "text": [
      "Collecting paho-mqtt\n",
      "  Downloading paho-mqtt-1.6.1.tar.gz (99 kB)\n",
      "     ---------------------------------------- 0.0/99.4 kB ? eta -:--:--\n",
      "     ---------------------------------------- 99.4/99.4 kB 5.9 MB/s eta 0:00:00\n",
      "  Preparing metadata (setup.py): started\n",
      "  Preparing metadata (setup.py): finished with status 'done'\n",
      "Building wheels for collected packages: paho-mqtt\n",
      "  Building wheel for paho-mqtt (setup.py): started\n",
      "  Building wheel for paho-mqtt (setup.py): finished with status 'done'\n",
      "  Created wheel for paho-mqtt: filename=paho_mqtt-1.6.1-py3-none-any.whl size=65646 sha256=372ea6f391752de20e5bddd5f5f4029fbc3e232907d065af88f3b70a552fb691\n",
      "  Stored in directory: c:\\users\\lee\\appdata\\local\\pip\\cache\\wheels\\29\\ea\\a5\\ba9a63aaf4cd4e16e8a87ee31fb4d11b04ff5e1735d312619a\n",
      "Successfully built paho-mqtt\n",
      "Installing collected packages: paho-mqtt\n",
      "Successfully installed paho-mqtt-1.6.1\n",
      "Note: you may need to restart the kernel to use updated packages.\n"
     ]
    }
   ],
   "source": [
    "pip install paho-mqtt"
   ]
  },
  {
   "cell_type": "code",
   "execution_count": 17,
   "id": "e9b362db",
   "metadata": {
    "scrolled": true
   },
   "outputs": [
    {
     "name": "stdout",
     "output_type": "stream",
     "text": [
      "Collecting pymysql\n",
      "  Obtaining dependency information for pymysql from https://files.pythonhosted.org/packages/e5/30/20467e39523d0cfc2b6227902d3687a16364307260c75e6a1cb4422b0c62/PyMySQL-1.1.0-py3-none-any.whl.metadata\n",
      "  Downloading PyMySQL-1.1.0-py3-none-any.whl.metadata (4.4 kB)\n",
      "Downloading PyMySQL-1.1.0-py3-none-any.whl (44 kB)\n",
      "   ---------------------------------------- 0.0/44.8 kB ? eta -:--:--\n",
      "   ---------------------------------------- 44.8/44.8 kB 2.3 MB/s eta 0:00:00\n",
      "Installing collected packages: pymysql\n",
      "Successfully installed pymysql-1.1.0\n"
     ]
    }
   ],
   "source": [
    "!pip install pymysql"
   ]
  },
  {
   "cell_type": "code",
   "execution_count": 27,
   "id": "2b8c9613",
   "metadata": {},
   "outputs": [
    {
     "name": "stdout",
     "output_type": "stream",
     "text": [
      "Requirement already satisfied: certifi in c:\\users\\lee\\anaconda3\\lib\\site-packages (2023.11.17)\n",
      "Note: you may need to restart the kernel to use updated packages.\n"
     ]
    }
   ],
   "source": [
    "pip install --upgrade certifi"
   ]
  },
  {
   "cell_type": "code",
   "execution_count": null,
   "id": "0235c588",
   "metadata": {},
   "outputs": [
    {
     "name": "stdout",
     "output_type": "stream",
     "text": [
      "Connected with result code 0\n",
      "Received message: SELECT sleep_num FROM ttap.mibanddata\n"
     ]
    }
   ],
   "source": [
    "# alarm_server.py\n",
    "\n",
    "import paho.mqtt.client as mqtt\n",
    "import pymysql\n",
    "import json\n",
    "from datetime import datetime, timedelta\n",
    "import time\n",
    "import threading\n",
    "\n",
    "# MySQL 연결 설정\n",
    "connection = pymysql.connect(\n",
    "    host='project-db-campus.smhrd.com',\n",
    "    port=3307,\n",
    "    user='ttap',\n",
    "    password='1234',\n",
    "    database='ttap',\n",
    "    cursorclass=pymysql.cursors.DictCursor\n",
    ")\n",
    "\n",
    "# 알람 목록을 저장할 리스트\n",
    "alarms = []\n",
    "\n",
    "# MQTT 브로커 설정\n",
    "broker_address = \"172.30.1.21\"\n",
    "broker_port = 1883\n",
    "\n",
    "# MQTT 클라이언트 생성\n",
    "client = mqtt.Client()\n",
    "\n",
    "# 주기적으로 현재 시간을 확인하고 알람이 발생해야 하는지 여부를 판단하는 함수\n",
    "def check_and_trigger_alarm_periodically():\n",
    "    while True:\n",
    "        get_alarms()\n",
    "        current_time = datetime.now().replace(microsecond=0).time()  # 초 부분을 0으로 만듦\n",
    "\n",
    "        for alarm in alarms:\n",
    "            alarm_time = datetime.strptime(alarm['time'], \"%H:%M\").time()  # 알람의 초 부분을 무시\n",
    "            if alarm_time == current_time and alarm['isOn']:\n",
    "                # 라즈베리파이에게 알람 울리도록 메시지 전송\n",
    "                print(f\"Publishing triggered message to Dart/Mqtt_client/flutter/alarm\")\n",
    "                client.publish(\"Dart/Mqtt_client/flutter/alarm\", \"triggered\")\n",
    "\n",
    "        # 1초마다 확인\n",
    "        time.sleep(5)\n",
    "\n",
    "# MQTT 연결 시 호출되는 콜백 함수\n",
    "def on_connect(client, userdata, flags, rc):\n",
    "    print(f\"Connected with result code {rc}\")\n",
    "    # 토픽 구독\n",
    "    client.subscribe(\"Dart/Mqtt_client/flutter/alarm\")\n",
    "    client.subscribe(\"Dart/Mqtt_client/flutter/sql\")\n",
    "    client.subscribe(\"Dart/Mqtt_client/flutter/alarm/add\")\n",
    "    client.subscribe(\"Dart/Mqtt_client/flutter/alarm/update\")\n",
    "    client.subscribe(\"Dart/Mqtt_client/flutter/alarm/delete\")\n",
    "    client.subscribe(\"Dart/Mqtt_client/flutter/alarm/get\")\n",
    "\n",
    "# MQTT 메시지 수신 시 호출되는 콜백 함수\n",
    "def on_message(client, userdata, msg):\n",
    "    print(f\"Received message: {msg.payload.decode()}\")\n",
    "\n",
    "    # 알람 추가 메시지 처리\n",
    "    if msg.topic == \"Dart/Mqtt_client/flutter/alarm/add\":\n",
    "        add_alarm(msg.payload.decode())\n",
    "    # 알람 수정 메시지 처리\n",
    "    elif msg.topic == \"Dart/Mqtt_client/flutter/alarm/update\":\n",
    "        update_alarm(msg.payload.decode())\n",
    "    # 알람 삭제 메시지 처리\n",
    "    elif msg.topic == \"Dart/Mqtt_client/flutter/alarm/delete\":\n",
    "        delete_alarm(msg.payload.decode())\n",
    "    # 알람 목록 조회 메시지 처리\n",
    "    elif msg.topic == \"Dart/Mqtt_client/flutter/alarm/get\":\n",
    "        get_alarms()\n",
    "    # SQL 문을 받아서 실행하고 결과를 MQTT로 전송\n",
    "    elif msg.topic == \"Dart/Mqtt_client/flutter/sql\":\n",
    "        execute_sql_query(msg.payload.decode())\n",
    "\n",
    "# 알람 추가 함수\n",
    "def add_alarm(payload):\n",
    "    try:\n",
    "        alarm_data = json.loads(payload)\n",
    "        with connection.cursor() as cursor:\n",
    "            # 알람 정보를 데이터베이스에 추가\n",
    "            sql = \"INSERT INTO alarms (time, isOn, isSelected) VALUES (%s, %s, %s)\"\n",
    "            cursor.execute(sql, (alarm_data['time'], alarm_data['isOn'], alarm_data['isSelected']))\n",
    "            connection.commit()\n",
    "        print(f\"Alarm added: {alarm_data}\")\n",
    "    except (json.JSONDecodeError, pymysql.Error) as e:\n",
    "        print(f\"Error adding alarm: {e}\")\n",
    "\n",
    "# 알람 수정 함수\n",
    "def update_alarm(payload):\n",
    "    try:\n",
    "        alarm_data = json.loads(payload)\n",
    "        with connection.cursor() as cursor:\n",
    "            # 알람 정보를 데이터베이스에서 수정\n",
    "            sql = \"UPDATE alarms SET time=%s, isOn=%s, isSelected=%s WHERE id=%s\"\n",
    "            cursor.execute(sql, (alarm_data['time'], alarm_data['isOn'], alarm_data['isSelected'], alarm_data['id']))\n",
    "            connection.commit()\n",
    "        print(f\"Alarm updated: {alarm_data}\")\n",
    "    except (json.JSONDecodeError, pymysql.Error) as e:\n",
    "        print(f\"Error updating alarm: {e}\")\n",
    "\n",
    "# 알람 삭제 함수\n",
    "def delete_alarm(payload):\n",
    "    try:\n",
    "        alarm_id = json.loads(payload)['id']\n",
    "        with connection.cursor() as cursor:\n",
    "            # 알람 정보를 데이터베이스에서 삭제\n",
    "            sql = \"DELETE FROM alarms WHERE id=%s\"\n",
    "            cursor.execute(sql, (alarm_id,))\n",
    "            connection.commit()\n",
    "        print(f\"Alarm deleted: {alarm_id}\")\n",
    "    except (json.JSONDecodeError, pymysql.Error) as e:\n",
    "        print(f\"Error deleting alarm: {e}\")\n",
    "\n",
    "# 알람 목록 조회 함수\n",
    "def get_alarms():\n",
    "    global alarms\n",
    "    try:\n",
    "        with connection.cursor() as cursor:\n",
    "            # 알람 목록을 데이터베이스에서 조회\n",
    "            sql = \"SELECT id, time, isOn, isSelected FROM alarms\"\n",
    "            cursor.execute(sql)\n",
    "            alarms = cursor.fetchall()\n",
    "        # 알람 목록을 MQTT로 전송\n",
    "        client.publish(\"Dart/Mqtt_client/flutter/alarm/return\", json.dumps(alarms))\n",
    "    except pymysql.Error as e:\n",
    "        print(f\"Error getting alarms: {e}\")\n",
    "\n",
    "# SQL 문을 실행하고 결과를 MQTT로 전송하는 함수\n",
    "def execute_sql_query(sql_query):\n",
    "    try:\n",
    "        with connection.cursor() as cursor:\n",
    "            # SQL 실행\n",
    "            cursor.execute(sql_query)\n",
    "            # 결과 가져오기\n",
    "            result = cursor.fetchall()\n",
    "            # 결과를 MQTT 토픽에 전송\n",
    "            client.publish(\"Dart/Mqtt_client/flutter/sql/return\", json.dumps(result))\n",
    "    except pymysql.Error as e:\n",
    "        print(f\"Error executing SQL: {e}\")\n",
    "\n",
    "# MQTT 클라이언트에 콜백 함수 등록\n",
    "client.on_connect = on_connect\n",
    "client.on_message = on_message\n",
    "\n",
    "# MQTT 브로커에 연결\n",
    "client.connect(broker_address, broker_port, 60)\n",
    "\n",
    "# 알람을 주기적으로 확인하는 쓰레드 시작\n",
    "alarm_thread = threading.Thread(target=check_and_trigger_alarm_periodically)\n",
    "alarm_thread.start()\n",
    "\n",
    "# 브로커 루프 시작\n",
    "client.loop_forever()"
   ]
  }
 ],
 "metadata": {
  "kernelspec": {
   "display_name": "Python 3 (ipykernel)",
   "language": "python",
   "name": "python3"
  },
  "language_info": {
   "codemirror_mode": {
    "name": "ipython",
    "version": 3
   },
   "file_extension": ".py",
   "mimetype": "text/x-python",
   "name": "python",
   "nbconvert_exporter": "python",
   "pygments_lexer": "ipython3",
   "version": "3.11.4"
  }
 },
 "nbformat": 4,
 "nbformat_minor": 5
}
