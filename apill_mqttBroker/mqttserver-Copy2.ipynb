{
 "cells": [
  {
   "cell_type": "markdown",
   "id": "ccee46f2",
   "metadata": {
    "scrolled": false
   },
   "source": [
    "pip install paho-mqtt"
   ]
  },
  {
   "cell_type": "markdown",
   "id": "f38b96a5",
   "metadata": {
    "scrolled": true
   },
   "source": [
    "!pip install pymysql"
   ]
  },
  {
   "cell_type": "markdown",
   "id": "b70bad81",
   "metadata": {},
   "source": [
    "pip install --upgrade certifi"
   ]
  },
  {
   "cell_type": "markdown",
   "id": "8080e6d1",
   "metadata": {
    "scrolled": true
   },
   "source": [
    "pip install pymysqlpool"
   ]
  },
  {
   "cell_type": "markdown",
   "id": "07861aa9",
   "metadata": {},
   "source": [
    "pip install scikit-learn==1.3.1"
   ]
  },
  {
   "cell_type": "code",
   "execution_count": null,
   "id": "33f8539b",
   "metadata": {},
   "outputs": [],
   "source": [
    "# # posture_hitory 더미데이터 만들기\n",
    "\n",
    "# import pymysql\n",
    "# from datetime import datetime, timedelta\n",
    "# import random\n",
    "\n",
    "# # MySQL 연결 설정\n",
    "# mydb = pymysql.connect(\n",
    "#     host='project-db-campus.smhrd.com',\n",
    "#     port=3307,\n",
    "#     user='ttap',\n",
    "#     password='1234',\n",
    "#     database='ttap',\n",
    "#     cursorclass=pymysql.cursors.DictCursor\n",
    "# )\n",
    "\n",
    "# cursor = mydb.cursor()\n",
    "\n",
    "# post_posture = 'DP'\n",
    "# min_sum = 0\n",
    "\n",
    "# # 시작 시간과 종료 시간의 범위 설정\n",
    "# start_date = datetime(2023, 12, 15, 22, 0, 0)\n",
    "# end_date = datetime(2024, 1, 10, 6, 0, 0)\n",
    "\n",
    "# current_date = start_date\n",
    "# begin_date = current_date\n",
    "# stop_date = begin_date\n",
    "# posture = random.choice(['DP', 'CP'])\n",
    "# while current_date < end_date:\n",
    "    \n",
    "\n",
    "    \n",
    "#     random_minutes = random.randint(30, 120)  # 랜덤한 분 설정 (30분 ~ 2시간)\n",
    "#     end_minutes = random.randint(1, 9)  # 랜덤한 분 추가 (1분 ~ 9분)\n",
    "    \n",
    "#     min_sum += random_minutes\n",
    "#     min_sum += end_minutes\n",
    "    \n",
    "#     if min_sum > 480:\n",
    "#         min_sum = 480\n",
    "    \n",
    "#     stop_date = current_date + timedelta(minutes=min_sum)\n",
    "    \n",
    "#     # MySQL에 데이터 삽입\n",
    "#     sql = \"INSERT INTO posture_history (member_id, posture, start_time, end_time) VALUES (%s, %s, %s, %s)\"\n",
    "#     val = ('test', posture, begin_date.strftime(\"%Y-%m-%d %H:%M:%S\"), stop_date.strftime(\"%Y-%m-%d %H:%M:%S\"))\n",
    "#     cursor.execute(sql, val)\n",
    "\n",
    "#     if min_sum == 480:\n",
    "#         min_sum = 0\n",
    "#         current_date += timedelta(days=1)\n",
    "#         posture = random.choice(['DP', 'CP'])\n",
    "#         begin_date = current_date\n",
    "#     else:\n",
    "#         if posture == 'DP':\n",
    "#             posture = 'CP'\n",
    "#         else: \n",
    "#             posture ='DP'\n",
    "#         begin_date = stop_date\n",
    "        \n",
    "# mydb.commit()\n"
   ]
  },
  {
   "cell_type": "code",
   "execution_count": null,
   "id": "0235c588",
   "metadata": {},
   "outputs": [
    {
     "name": "stdout",
     "output_type": "stream",
     "text": [
      "check_height\n",
      "로드 완료 : 베개자세 : DP / 베개레벨 : 1 / DP레벨 : 1 / CP레벨 : 3 / 현재자세 : DP\n",
      "change_height\n",
      "변경전 : 베개자세 : DP / 베개레벨 : 1 / DP레벨 : 1 / CP레벨 : 3\n",
      "level_check\n",
      "get_alarms\n",
      "[{'id': 44, 'time': '13:29', 'isOn': 1, 'isSelected': 0}]\n",
      "apill 시작\n",
      "sensor 시작\n",
      "현재 레벨 : 1 베개자세 : DP 판단하는자세 : CP 자세한자세 : CP\n",
      "현재 자세:CP 현재 자세 카운트:0\n"
     ]
    },
    {
     "name": "stderr",
     "output_type": "stream",
     "text": [
      "C:\\Users\\lee\\anaconda3\\Lib\\site-packages\\sklearn\\base.py:465: UserWarning: X does not have valid feature names, but KNeighborsClassifier was fitted with feature names\n",
      "  warnings.warn(\n"
     ]
    },
    {
     "name": "stdout",
     "output_type": "stream",
     "text": [
      "sensor 종료\n",
      "app 시작\n",
      "level_check\n",
      "sensor 시작\n",
      "현재 레벨 : 1 베개자세 : DP 판단하는자세 : DP 자세한자세 : DP\n",
      "현재 자세:DP 현재 자세 카운트:0\n"
     ]
    },
    {
     "name": "stderr",
     "output_type": "stream",
     "text": [
      "C:\\Users\\lee\\anaconda3\\Lib\\site-packages\\sklearn\\base.py:465: UserWarning: X does not have valid feature names, but KNeighborsClassifier was fitted with feature names\n",
      "  warnings.warn(\n",
      "C:\\Users\\lee\\anaconda3\\Lib\\site-packages\\sklearn\\base.py:465: UserWarning: X does not have valid feature names, but KNeighborsClassifier was fitted with feature names\n",
      "  warnings.warn(\n"
     ]
    },
    {
     "name": "stdout",
     "output_type": "stream",
     "text": [
      "현재 레벨 : 1 베개자세 : DP 판단하는자세 : DP 자세한자세 : DP\n",
      "현재 자세:DP 현재 자세 카운트:1\n"
     ]
    },
    {
     "name": "stderr",
     "output_type": "stream",
     "text": [
      "C:\\Users\\lee\\anaconda3\\Lib\\site-packages\\sklearn\\base.py:465: UserWarning: X does not have valid feature names, but KNeighborsClassifier was fitted with feature names\n",
      "  warnings.warn(\n"
     ]
    },
    {
     "name": "stdout",
     "output_type": "stream",
     "text": [
      "현재 레벨 : 1 베개자세 : DP 판단하는자세 : DP 자세한자세 : DP\n",
      "현재 자세:DP 현재 자세 카운트:2\n"
     ]
    },
    {
     "name": "stderr",
     "output_type": "stream",
     "text": [
      "C:\\Users\\lee\\anaconda3\\Lib\\site-packages\\sklearn\\base.py:465: UserWarning: X does not have valid feature names, but KNeighborsClassifier was fitted with feature names\n",
      "  warnings.warn(\n"
     ]
    },
    {
     "name": "stdout",
     "output_type": "stream",
     "text": [
      "현재 레벨 : 1 베개자세 : DP 판단하는자세 : DP 자세한자세 : DP\n",
      "현재 자세:DP 현재 자세 카운트:3\n"
     ]
    },
    {
     "name": "stderr",
     "output_type": "stream",
     "text": [
      "C:\\Users\\lee\\anaconda3\\Lib\\site-packages\\sklearn\\base.py:465: UserWarning: X does not have valid feature names, but KNeighborsClassifier was fitted with feature names\n",
      "  warnings.warn(\n"
     ]
    },
    {
     "name": "stdout",
     "output_type": "stream",
     "text": [
      "현재 레벨 : 1 베개자세 : DP 판단하는자세 : CP 자세한자세 : CP\n",
      "현재 자세:CP 현재 자세 카운트:0\n"
     ]
    },
    {
     "name": "stderr",
     "output_type": "stream",
     "text": [
      "C:\\Users\\lee\\anaconda3\\Lib\\site-packages\\sklearn\\base.py:465: UserWarning: X does not have valid feature names, but KNeighborsClassifier was fitted with feature names\n",
      "  warnings.warn(\n"
     ]
    },
    {
     "name": "stdout",
     "output_type": "stream",
     "text": [
      "현재 레벨 : 1 베개자세 : DP 판단하는자세 : CP 자세한자세 : CP\n",
      "현재 자세:CP 현재 자세 카운트:1\n"
     ]
    },
    {
     "name": "stderr",
     "output_type": "stream",
     "text": [
      "C:\\Users\\lee\\anaconda3\\Lib\\site-packages\\sklearn\\base.py:465: UserWarning: X does not have valid feature names, but KNeighborsClassifier was fitted with feature names\n",
      "  warnings.warn(\n"
     ]
    },
    {
     "name": "stdout",
     "output_type": "stream",
     "text": [
      "현재 레벨 : 1 베개자세 : DP 판단하는자세 : CP 자세한자세 : CP\n",
      "현재 자세:CP 현재 자세 카운트:2\n"
     ]
    },
    {
     "name": "stderr",
     "output_type": "stream",
     "text": [
      "C:\\Users\\lee\\anaconda3\\Lib\\site-packages\\sklearn\\base.py:465: UserWarning: X does not have valid feature names, but KNeighborsClassifier was fitted with feature names\n",
      "  warnings.warn(\n"
     ]
    },
    {
     "name": "stdout",
     "output_type": "stream",
     "text": [
      "현재 레벨 : 1 베개자세 : DP 판단하는자세 : CP 자세한자세 : CP\n",
      "현재 자세:CP 현재 자세 카운트:3\n"
     ]
    },
    {
     "name": "stderr",
     "output_type": "stream",
     "text": [
      "C:\\Users\\lee\\anaconda3\\Lib\\site-packages\\sklearn\\base.py:465: UserWarning: X does not have valid feature names, but KNeighborsClassifier was fitted with feature names\n",
      "  warnings.warn(\n"
     ]
    },
    {
     "name": "stdout",
     "output_type": "stream",
     "text": [
      "현재 레벨 : 1 베개자세 : DP 판단하는자세 : CP 자세한자세 : CP\n",
      "change_height\n",
      "변경전 : 베개자세 : CP / 베개레벨 : 1 / DP레벨 : 1 / CP레벨 : 3\n",
      "change_nowposlevel\n",
      "베개자세 : CP, 베개레벨 : 3 업데이트\n",
      "변경후 : 베개레벨 : 3\n",
      "level_check\n",
      "CP 높이 변경\n",
      "현재 자세:CP 현재 자세 카운트:4\n"
     ]
    },
    {
     "name": "stderr",
     "output_type": "stream",
     "text": [
      "C:\\Users\\lee\\anaconda3\\Lib\\site-packages\\sklearn\\base.py:465: UserWarning: X does not have valid feature names, but KNeighborsClassifier was fitted with feature names\n",
      "  warnings.warn(\n"
     ]
    },
    {
     "name": "stdout",
     "output_type": "stream",
     "text": [
      "현재 레벨 : 3 베개자세 : CP 판단하는자세 : CP 자세한자세 : CP\n",
      "change_height\n",
      "변경전 : 베개자세 : CP / 베개레벨 : 3 / DP레벨 : 1 / CP레벨 : 3\n",
      "level_check\n",
      "CP 높이 변경\n",
      "현재 자세:CP 현재 자세 카운트:4\n"
     ]
    },
    {
     "name": "stderr",
     "output_type": "stream",
     "text": [
      "C:\\Users\\lee\\anaconda3\\Lib\\site-packages\\sklearn\\base.py:465: UserWarning: X does not have valid feature names, but KNeighborsClassifier was fitted with feature names\n",
      "  warnings.warn(\n"
     ]
    },
    {
     "name": "stdout",
     "output_type": "stream",
     "text": [
      "현재 레벨 : 3 베개자세 : CP 판단하는자세 : CP 자세한자세 : CP\n",
      "change_height\n",
      "변경전 : 베개자세 : CP / 베개레벨 : 3 / DP레벨 : 1 / CP레벨 : 3\n",
      "level_check\n",
      "CP 높이 변경\n",
      "현재 자세:CP 현재 자세 카운트:4\n"
     ]
    },
    {
     "name": "stderr",
     "output_type": "stream",
     "text": [
      "C:\\Users\\lee\\anaconda3\\Lib\\site-packages\\sklearn\\base.py:465: UserWarning: X does not have valid feature names, but KNeighborsClassifier was fitted with feature names\n",
      "  warnings.warn(\n"
     ]
    },
    {
     "name": "stdout",
     "output_type": "stream",
     "text": [
      "현재 레벨 : 3 베개자세 : CP 판단하는자세 : CP 자세한자세 : CP\n",
      "change_height\n",
      "변경전 : 베개자세 : CP / 베개레벨 : 3 / DP레벨 : 1 / CP레벨 : 3\n",
      "level_check\n",
      "CP 높이 변경\n",
      "현재 자세:CP 현재 자세 카운트:4\n"
     ]
    },
    {
     "name": "stderr",
     "output_type": "stream",
     "text": [
      "C:\\Users\\lee\\anaconda3\\Lib\\site-packages\\sklearn\\base.py:465: UserWarning: X does not have valid feature names, but KNeighborsClassifier was fitted with feature names\n",
      "  warnings.warn(\n"
     ]
    },
    {
     "name": "stdout",
     "output_type": "stream",
     "text": [
      "현재 레벨 : 3 베개자세 : CP 판단하는자세 : CP 자세한자세 : CP\n",
      "change_height\n",
      "변경전 : 베개자세 : CP / 베개레벨 : 3 / DP레벨 : 1 / CP레벨 : 3\n",
      "level_check\n",
      "CP 높이 변경\n",
      "현재 자세:CP 현재 자세 카운트:4\n"
     ]
    },
    {
     "name": "stderr",
     "output_type": "stream",
     "text": [
      "C:\\Users\\lee\\anaconda3\\Lib\\site-packages\\sklearn\\base.py:465: UserWarning: X does not have valid feature names, but KNeighborsClassifier was fitted with feature names\n",
      "  warnings.warn(\n"
     ]
    },
    {
     "name": "stdout",
     "output_type": "stream",
     "text": [
      "현재 레벨 : 3 베개자세 : CP 판단하는자세 : CP 자세한자세 : CP\n",
      "change_height\n",
      "변경전 : 베개자세 : CP / 베개레벨 : 3 / DP레벨 : 1 / CP레벨 : 3\n",
      "level_check\n",
      "CP 높이 변경\n",
      "현재 자세:CP 현재 자세 카운트:4\n"
     ]
    },
    {
     "name": "stderr",
     "output_type": "stream",
     "text": [
      "C:\\Users\\lee\\anaconda3\\Lib\\site-packages\\sklearn\\base.py:465: UserWarning: X does not have valid feature names, but KNeighborsClassifier was fitted with feature names\n",
      "  warnings.warn(\n"
     ]
    },
    {
     "name": "stdout",
     "output_type": "stream",
     "text": [
      "현재 레벨 : 3 베개자세 : CP 판단하는자세 : CP 자세한자세 : CP\n",
      "change_height\n",
      "변경전 : 베개자세 : CP / 베개레벨 : 3 / DP레벨 : 1 / CP레벨 : 3\n",
      "level_check\n",
      "CP 높이 변경\n",
      "현재 자세:CP 현재 자세 카운트:4\n"
     ]
    },
    {
     "name": "stderr",
     "output_type": "stream",
     "text": [
      "C:\\Users\\lee\\anaconda3\\Lib\\site-packages\\sklearn\\base.py:465: UserWarning: X does not have valid feature names, but KNeighborsClassifier was fitted with feature names\n",
      "  warnings.warn(\n"
     ]
    },
    {
     "name": "stdout",
     "output_type": "stream",
     "text": [
      "현재 레벨 : 3 베개자세 : CP 판단하는자세 : CP 자세한자세 : CP\n",
      "change_height\n",
      "변경전 : 베개자세 : CP / 베개레벨 : 3 / DP레벨 : 1 / CP레벨 : 3\n",
      "level_check\n",
      "CP 높이 변경\n",
      "현재 자세:CP 현재 자세 카운트:4\n"
     ]
    },
    {
     "name": "stderr",
     "output_type": "stream",
     "text": [
      "C:\\Users\\lee\\anaconda3\\Lib\\site-packages\\sklearn\\base.py:465: UserWarning: X does not have valid feature names, but KNeighborsClassifier was fitted with feature names\n",
      "  warnings.warn(\n"
     ]
    },
    {
     "name": "stdout",
     "output_type": "stream",
     "text": [
      "현재 레벨 : 3 베개자세 : CP 판단하는자세 : CP 자세한자세 : CP\n",
      "change_height\n",
      "변경전 : 베개자세 : CP / 베개레벨 : 3 / DP레벨 : 1 / CP레벨 : 3\n",
      "level_check\n",
      "CP 높이 변경\n",
      "현재 자세:CP 현재 자세 카운트:4\n",
      "send_alarm\n",
      "level_check\n"
     ]
    },
    {
     "name": "stderr",
     "output_type": "stream",
     "text": [
      "C:\\Users\\lee\\anaconda3\\Lib\\site-packages\\sklearn\\base.py:465: UserWarning: X does not have valid feature names, but KNeighborsClassifier was fitted with feature names\n",
      "  warnings.warn(\n"
     ]
    },
    {
     "name": "stdout",
     "output_type": "stream",
     "text": [
      "현재 레벨 : 3 베개자세 : CP 판단하는자세 : CP 자세한자세 : CP\n",
      "change_height\n",
      "변경전 : 베개자세 : CP / 베개레벨 : 3 / DP레벨 : 1 / CP레벨 : 3\n",
      "level_check\n",
      "CP 높이 변경\n",
      "현재 자세:CP 현재 자세 카운트:4\n"
     ]
    },
    {
     "name": "stderr",
     "output_type": "stream",
     "text": [
      "C:\\Users\\lee\\anaconda3\\Lib\\site-packages\\sklearn\\base.py:465: UserWarning: X does not have valid feature names, but KNeighborsClassifier was fitted with feature names\n",
      "  warnings.warn(\n"
     ]
    },
    {
     "name": "stdout",
     "output_type": "stream",
     "text": [
      "현재 레벨 : 3 베개자세 : CP 판단하는자세 : CP 자세한자세 : CP\n",
      "change_height\n",
      "변경전 : 베개자세 : CP / 베개레벨 : 3 / DP레벨 : 1 / CP레벨 : 3\n",
      "level_check\n",
      "CP 높이 변경\n",
      "현재 자세:CP 현재 자세 카운트:4\n"
     ]
    },
    {
     "name": "stderr",
     "output_type": "stream",
     "text": [
      "C:\\Users\\lee\\anaconda3\\Lib\\site-packages\\sklearn\\base.py:465: UserWarning: X does not have valid feature names, but KNeighborsClassifier was fitted with feature names\n",
      "  warnings.warn(\n"
     ]
    },
    {
     "name": "stdout",
     "output_type": "stream",
     "text": [
      "현재 레벨 : 3 베개자세 : CP 판단하는자세 : CP 자세한자세 : CP\n",
      "change_height\n",
      "변경전 : 베개자세 : CP / 베개레벨 : 3 / DP레벨 : 1 / CP레벨 : 3\n",
      "level_check\n",
      "CP 높이 변경\n",
      "현재 자세:CP 현재 자세 카운트:4\n"
     ]
    },
    {
     "name": "stderr",
     "output_type": "stream",
     "text": [
      "C:\\Users\\lee\\anaconda3\\Lib\\site-packages\\sklearn\\base.py:465: UserWarning: X does not have valid feature names, but KNeighborsClassifier was fitted with feature names\n",
      "  warnings.warn(\n"
     ]
    },
    {
     "name": "stdout",
     "output_type": "stream",
     "text": [
      "현재 레벨 : 3 베개자세 : CP 판단하는자세 : CP 자세한자세 : CP\n",
      "change_height\n",
      "변경전 : 베개자세 : CP / 베개레벨 : 3 / DP레벨 : 1 / CP레벨 : 3\n",
      "level_check\n",
      "CP 높이 변경\n",
      "현재 자세:CP 현재 자세 카운트:4\n"
     ]
    },
    {
     "name": "stderr",
     "output_type": "stream",
     "text": [
      "C:\\Users\\lee\\anaconda3\\Lib\\site-packages\\sklearn\\base.py:465: UserWarning: X does not have valid feature names, but KNeighborsClassifier was fitted with feature names\n",
      "  warnings.warn(\n"
     ]
    },
    {
     "name": "stdout",
     "output_type": "stream",
     "text": [
      "현재 레벨 : 3 베개자세 : CP 판단하는자세 : CP 자세한자세 : CP\n",
      "change_height\n",
      "변경전 : 베개자세 : CP / 베개레벨 : 3 / DP레벨 : 1 / CP레벨 : 3\n",
      "level_check\n",
      "CP 높이 변경\n",
      "현재 자세:CP 현재 자세 카운트:4\n"
     ]
    },
    {
     "name": "stderr",
     "output_type": "stream",
     "text": [
      "C:\\Users\\lee\\anaconda3\\Lib\\site-packages\\sklearn\\base.py:465: UserWarning: X does not have valid feature names, but KNeighborsClassifier was fitted with feature names\n",
      "  warnings.warn(\n"
     ]
    },
    {
     "name": "stdout",
     "output_type": "stream",
     "text": [
      "현재 레벨 : 3 베개자세 : CP 판단하는자세 : CP 자세한자세 : CP\n",
      "change_height\n",
      "변경전 : 베개자세 : CP / 베개레벨 : 3 / DP레벨 : 1 / CP레벨 : 3\n",
      "level_check\n",
      "CP 높이 변경\n",
      "현재 자세:CP 현재 자세 카운트:4\n",
      "높이변경완료\n"
     ]
    },
    {
     "name": "stderr",
     "output_type": "stream",
     "text": [
      "C:\\Users\\lee\\anaconda3\\Lib\\site-packages\\sklearn\\base.py:465: UserWarning: X does not have valid feature names, but KNeighborsClassifier was fitted with feature names\n",
      "  warnings.warn(\n"
     ]
    },
    {
     "name": "stdout",
     "output_type": "stream",
     "text": [
      "현재 레벨 : 3 베개자세 : CP 판단하는자세 : CP 자세한자세 : CP\n",
      "현재 자세:CP 현재 자세 카운트:5\n"
     ]
    },
    {
     "name": "stderr",
     "output_type": "stream",
     "text": [
      "C:\\Users\\lee\\anaconda3\\Lib\\site-packages\\sklearn\\base.py:465: UserWarning: X does not have valid feature names, but KNeighborsClassifier was fitted with feature names\n",
      "  warnings.warn(\n"
     ]
    },
    {
     "name": "stdout",
     "output_type": "stream",
     "text": [
      "현재 레벨 : 3 베개자세 : CP 판단하는자세 : CP 자세한자세 : CP\n",
      "현재 자세:CP 현재 자세 카운트:6\n"
     ]
    },
    {
     "name": "stderr",
     "output_type": "stream",
     "text": [
      "C:\\Users\\lee\\anaconda3\\Lib\\site-packages\\sklearn\\base.py:465: UserWarning: X does not have valid feature names, but KNeighborsClassifier was fitted with feature names\n",
      "  warnings.warn(\n"
     ]
    },
    {
     "name": "stdout",
     "output_type": "stream",
     "text": [
      "현재 레벨 : 3 베개자세 : CP 판단하는자세 : CP 자세한자세 : CP\n",
      "현재 자세:CP 현재 자세 카운트:7\n",
      "change_cplevel\n",
      "change_height\n",
      "변경전 : 베개자세 : CP / 베개레벨 : 3 / DP레벨 : 1 / CP레벨 : 5\n",
      "change_nowposlevel\n",
      "베개자세 : CP, 베개레벨 : 5 업데이트\n",
      "변경후 : 베개레벨 : 5\n",
      "level_check\n",
      "CP 레벨 업데이트: 5\n"
     ]
    },
    {
     "name": "stderr",
     "output_type": "stream",
     "text": [
      "C:\\Users\\lee\\anaconda3\\Lib\\site-packages\\sklearn\\base.py:465: UserWarning: X does not have valid feature names, but KNeighborsClassifier was fitted with feature names\n",
      "  warnings.warn(\n"
     ]
    },
    {
     "name": "stdout",
     "output_type": "stream",
     "text": [
      "현재 레벨 : 5 베개자세 : CP 판단하는자세 : CP 자세한자세 : CP\n",
      "현재 자세:CP 현재 자세 카운트:7\n"
     ]
    },
    {
     "name": "stderr",
     "output_type": "stream",
     "text": [
      "C:\\Users\\lee\\anaconda3\\Lib\\site-packages\\sklearn\\base.py:465: UserWarning: X does not have valid feature names, but KNeighborsClassifier was fitted with feature names\n",
      "  warnings.warn(\n"
     ]
    },
    {
     "name": "stdout",
     "output_type": "stream",
     "text": [
      "현재 레벨 : 5 베개자세 : CP 판단하는자세 : CP 자세한자세 : CP\n",
      "현재 자세:CP 현재 자세 카운트:7\n"
     ]
    },
    {
     "name": "stderr",
     "output_type": "stream",
     "text": [
      "C:\\Users\\lee\\anaconda3\\Lib\\site-packages\\sklearn\\base.py:465: UserWarning: X does not have valid feature names, but KNeighborsClassifier was fitted with feature names\n",
      "  warnings.warn(\n"
     ]
    },
    {
     "name": "stdout",
     "output_type": "stream",
     "text": [
      "현재 레벨 : 5 베개자세 : CP 판단하는자세 : CP 자세한자세 : CP\n",
      "현재 자세:CP 현재 자세 카운트:7\n"
     ]
    },
    {
     "name": "stderr",
     "output_type": "stream",
     "text": [
      "C:\\Users\\lee\\anaconda3\\Lib\\site-packages\\sklearn\\base.py:465: UserWarning: X does not have valid feature names, but KNeighborsClassifier was fitted with feature names\n",
      "  warnings.warn(\n"
     ]
    },
    {
     "name": "stdout",
     "output_type": "stream",
     "text": [
      "현재 레벨 : 5 베개자세 : CP 판단하는자세 : CP 자세한자세 : CP\n",
      "현재 자세:CP 현재 자세 카운트:7\n",
      "send_alarm\n"
     ]
    },
    {
     "name": "stderr",
     "output_type": "stream",
     "text": [
      "C:\\Users\\lee\\anaconda3\\Lib\\site-packages\\sklearn\\base.py:465: UserWarning: X does not have valid feature names, but KNeighborsClassifier was fitted with feature names\n",
      "  warnings.warn(\n"
     ]
    },
    {
     "name": "stdout",
     "output_type": "stream",
     "text": [
      "현재 레벨 : 5 베개자세 : CP 판단하는자세 : CP 자세한자세 : CP\n",
      "현재 자세:CP 현재 자세 카운트:7\n"
     ]
    },
    {
     "name": "stderr",
     "output_type": "stream",
     "text": [
      "C:\\Users\\lee\\anaconda3\\Lib\\site-packages\\sklearn\\base.py:465: UserWarning: X does not have valid feature names, but KNeighborsClassifier was fitted with feature names\n",
      "  warnings.warn(\n"
     ]
    },
    {
     "name": "stdout",
     "output_type": "stream",
     "text": [
      "현재 레벨 : 5 베개자세 : CP 판단하는자세 : CP 자세한자세 : CP\n",
      "현재 자세:CP 현재 자세 카운트:7\n"
     ]
    },
    {
     "name": "stderr",
     "output_type": "stream",
     "text": [
      "C:\\Users\\lee\\anaconda3\\Lib\\site-packages\\sklearn\\base.py:465: UserWarning: X does not have valid feature names, but KNeighborsClassifier was fitted with feature names\n",
      "  warnings.warn(\n"
     ]
    },
    {
     "name": "stdout",
     "output_type": "stream",
     "text": [
      "현재 레벨 : 5 베개자세 : CP 판단하는자세 : CP 자세한자세 : CP\n",
      "현재 자세:CP 현재 자세 카운트:7\n"
     ]
    },
    {
     "name": "stderr",
     "output_type": "stream",
     "text": [
      "C:\\Users\\lee\\anaconda3\\Lib\\site-packages\\sklearn\\base.py:465: UserWarning: X does not have valid feature names, but KNeighborsClassifier was fitted with feature names\n",
      "  warnings.warn(\n"
     ]
    },
    {
     "name": "stdout",
     "output_type": "stream",
     "text": [
      "현재 레벨 : 5 베개자세 : CP 판단하는자세 : CP 자세한자세 : CP\n",
      "현재 자세:CP 현재 자세 카운트:7\n"
     ]
    },
    {
     "name": "stderr",
     "output_type": "stream",
     "text": [
      "C:\\Users\\lee\\anaconda3\\Lib\\site-packages\\sklearn\\base.py:465: UserWarning: X does not have valid feature names, but KNeighborsClassifier was fitted with feature names\n",
      "  warnings.warn(\n"
     ]
    },
    {
     "name": "stdout",
     "output_type": "stream",
     "text": [
      "현재 레벨 : 5 베개자세 : CP 판단하는자세 : CP 자세한자세 : CP\n",
      "현재 자세:CP 현재 자세 카운트:7\n"
     ]
    },
    {
     "name": "stderr",
     "output_type": "stream",
     "text": [
      "C:\\Users\\lee\\anaconda3\\Lib\\site-packages\\sklearn\\base.py:465: UserWarning: X does not have valid feature names, but KNeighborsClassifier was fitted with feature names\n",
      "  warnings.warn(\n"
     ]
    },
    {
     "name": "stdout",
     "output_type": "stream",
     "text": [
      "현재 레벨 : 5 베개자세 : CP 판단하는자세 : CP 자세한자세 : CP\n",
      "현재 자세:CP 현재 자세 카운트:7\n"
     ]
    },
    {
     "name": "stderr",
     "output_type": "stream",
     "text": [
      "C:\\Users\\lee\\anaconda3\\Lib\\site-packages\\sklearn\\base.py:465: UserWarning: X does not have valid feature names, but KNeighborsClassifier was fitted with feature names\n",
      "  warnings.warn(\n"
     ]
    },
    {
     "name": "stdout",
     "output_type": "stream",
     "text": [
      "현재 레벨 : 5 베개자세 : CP 판단하는자세 : CP 자세한자세 : CP\n",
      "현재 자세:CP 현재 자세 카운트:7\n"
     ]
    },
    {
     "name": "stderr",
     "output_type": "stream",
     "text": [
      "C:\\Users\\lee\\anaconda3\\Lib\\site-packages\\sklearn\\base.py:465: UserWarning: X does not have valid feature names, but KNeighborsClassifier was fitted with feature names\n",
      "  warnings.warn(\n"
     ]
    },
    {
     "name": "stdout",
     "output_type": "stream",
     "text": [
      "현재 레벨 : 5 베개자세 : CP 판단하는자세 : CP 자세한자세 : CP\n",
      "현재 자세:CP 현재 자세 카운트:7\n"
     ]
    },
    {
     "name": "stderr",
     "output_type": "stream",
     "text": [
      "C:\\Users\\lee\\anaconda3\\Lib\\site-packages\\sklearn\\base.py:465: UserWarning: X does not have valid feature names, but KNeighborsClassifier was fitted with feature names\n",
      "  warnings.warn(\n"
     ]
    },
    {
     "name": "stdout",
     "output_type": "stream",
     "text": [
      "현재 레벨 : 5 베개자세 : CP 판단하는자세 : CP 자세한자세 : CP\n",
      "현재 자세:CP 현재 자세 카운트:7\n"
     ]
    },
    {
     "name": "stderr",
     "output_type": "stream",
     "text": [
      "C:\\Users\\lee\\anaconda3\\Lib\\site-packages\\sklearn\\base.py:465: UserWarning: X does not have valid feature names, but KNeighborsClassifier was fitted with feature names\n",
      "  warnings.warn(\n"
     ]
    },
    {
     "name": "stdout",
     "output_type": "stream",
     "text": [
      "현재 레벨 : 5 베개자세 : CP 판단하는자세 : CP 자세한자세 : CP\n",
      "현재 자세:CP 현재 자세 카운트:7\n"
     ]
    },
    {
     "name": "stderr",
     "output_type": "stream",
     "text": [
      "C:\\Users\\lee\\anaconda3\\Lib\\site-packages\\sklearn\\base.py:465: UserWarning: X does not have valid feature names, but KNeighborsClassifier was fitted with feature names\n",
      "  warnings.warn(\n"
     ]
    },
    {
     "name": "stdout",
     "output_type": "stream",
     "text": [
      "현재 레벨 : 5 베개자세 : CP 판단하는자세 : CP 자세한자세 : CP\n",
      "현재 자세:CP 현재 자세 카운트:7\n",
      "높이변경완료\n"
     ]
    },
    {
     "name": "stderr",
     "output_type": "stream",
     "text": [
      "C:\\Users\\lee\\anaconda3\\Lib\\site-packages\\sklearn\\base.py:465: UserWarning: X does not have valid feature names, but KNeighborsClassifier was fitted with feature names\n",
      "  warnings.warn(\n"
     ]
    },
    {
     "name": "stdout",
     "output_type": "stream",
     "text": [
      "현재 레벨 : 5 베개자세 : CP 판단하는자세 : CP 자세한자세 : CP\n",
      "현재 자세:CP 현재 자세 카운트:8\n"
     ]
    },
    {
     "name": "stderr",
     "output_type": "stream",
     "text": [
      "C:\\Users\\lee\\anaconda3\\Lib\\site-packages\\sklearn\\base.py:465: UserWarning: X does not have valid feature names, but KNeighborsClassifier was fitted with feature names\n",
      "  warnings.warn(\n"
     ]
    },
    {
     "name": "stdout",
     "output_type": "stream",
     "text": [
      "현재 레벨 : 5 베개자세 : CP 판단하는자세 : CP 자세한자세 : CP\n",
      "현재 자세:CP 현재 자세 카운트:9\n"
     ]
    },
    {
     "name": "stderr",
     "output_type": "stream",
     "text": [
      "C:\\Users\\lee\\anaconda3\\Lib\\site-packages\\sklearn\\base.py:465: UserWarning: X does not have valid feature names, but KNeighborsClassifier was fitted with feature names\n",
      "  warnings.warn(\n"
     ]
    },
    {
     "name": "stdout",
     "output_type": "stream",
     "text": [
      "현재 레벨 : 5 베개자세 : CP 판단하는자세 : CP 자세한자세 : CP\n",
      "현재 자세:CP 현재 자세 카운트:10\n",
      "add_alarm\n",
      "get_alarms\n",
      "[{'id': 44, 'time': '13:29', 'isOn': 1, 'isSelected': 0}, {'id': 45, 'time': '14:32', 'isOn': 1, 'isSelected': 0}]\n",
      "알람 추가: {'time': '14:32', 'isOn': 1, 'isSelected': 0}\n",
      "send_alarm\n"
     ]
    },
    {
     "name": "stderr",
     "output_type": "stream",
     "text": [
      "C:\\Users\\lee\\anaconda3\\Lib\\site-packages\\sklearn\\base.py:465: UserWarning: X does not have valid feature names, but KNeighborsClassifier was fitted with feature names\n",
      "  warnings.warn(\n"
     ]
    },
    {
     "name": "stdout",
     "output_type": "stream",
     "text": [
      "현재 레벨 : 5 베개자세 : CP 판단하는자세 : CP 자세한자세 : CP\n",
      "현재 자세:CP 현재 자세 카운트:11\n",
      "level_check\n",
      "send_alarm\n",
      "level_check\n"
     ]
    },
    {
     "name": "stderr",
     "output_type": "stream",
     "text": [
      "C:\\Users\\lee\\anaconda3\\Lib\\site-packages\\sklearn\\base.py:465: UserWarning: X does not have valid feature names, but KNeighborsClassifier was fitted with feature names\n",
      "  warnings.warn(\n"
     ]
    },
    {
     "name": "stdout",
     "output_type": "stream",
     "text": [
      "현재 레벨 : 5 베개자세 : CP 판단하는자세 : CP 자세한자세 : CP\n",
      "현재 자세:CP 현재 자세 카운트:12\n",
      "send_alarm\n"
     ]
    },
    {
     "name": "stderr",
     "output_type": "stream",
     "text": [
      "C:\\Users\\lee\\anaconda3\\Lib\\site-packages\\sklearn\\base.py:465: UserWarning: X does not have valid feature names, but KNeighborsClassifier was fitted with feature names\n",
      "  warnings.warn(\n"
     ]
    },
    {
     "name": "stdout",
     "output_type": "stream",
     "text": [
      "현재 레벨 : 5 베개자세 : CP 판단하는자세 : CP 자세한자세 : CP\n",
      "현재 자세:CP 현재 자세 카운트:13\n",
      "level_check\n",
      "send_alarm\n",
      "send_alarm\n"
     ]
    },
    {
     "name": "stderr",
     "output_type": "stream",
     "text": [
      "C:\\Users\\lee\\anaconda3\\Lib\\site-packages\\sklearn\\base.py:465: UserWarning: X does not have valid feature names, but KNeighborsClassifier was fitted with feature names\n",
      "  warnings.warn(\n"
     ]
    },
    {
     "name": "stdout",
     "output_type": "stream",
     "text": [
      "현재 레벨 : 5 베개자세 : CP 판단하는자세 : CP 자세한자세 : CP\n",
      "현재 자세:CP 현재 자세 카운트:14\n",
      "level_check\n",
      "send_alarm\n"
     ]
    },
    {
     "name": "stderr",
     "output_type": "stream",
     "text": [
      "C:\\Users\\lee\\anaconda3\\Lib\\site-packages\\sklearn\\base.py:465: UserWarning: X does not have valid feature names, but KNeighborsClassifier was fitted with feature names\n",
      "  warnings.warn(\n"
     ]
    },
    {
     "name": "stdout",
     "output_type": "stream",
     "text": [
      "현재 레벨 : 5 베개자세 : CP 판단하는자세 : CP 자세한자세 : CP\n",
      "현재 자세:CP 현재 자세 카운트:15\n",
      "level_check\n"
     ]
    },
    {
     "name": "stderr",
     "output_type": "stream",
     "text": [
      "C:\\Users\\lee\\anaconda3\\Lib\\site-packages\\sklearn\\base.py:465: UserWarning: X does not have valid feature names, but KNeighborsClassifier was fitted with feature names\n",
      "  warnings.warn(\n"
     ]
    },
    {
     "name": "stdout",
     "output_type": "stream",
     "text": [
      "현재 레벨 : 5 베개자세 : CP 판단하는자세 : CP 자세한자세 : CP\n",
      "현재 자세:CP 현재 자세 카운트:16\n",
      "change_level\n",
      "change_height\n",
      "변경전 : 베개자세 : CP / 베개레벨 : 5 / DP레벨 : 1 / CP레벨 : 3\n",
      "change_nowposlevel\n",
      "베개자세 : CP, 베개레벨 : 3 업데이트\n",
      "변경후 : 베개레벨 : 3\n",
      "level_check\n"
     ]
    },
    {
     "name": "stderr",
     "output_type": "stream",
     "text": [
      "C:\\Users\\lee\\anaconda3\\Lib\\site-packages\\sklearn\\base.py:465: UserWarning: X does not have valid feature names, but KNeighborsClassifier was fitted with feature names\n",
      "  warnings.warn(\n"
     ]
    },
    {
     "name": "stdout",
     "output_type": "stream",
     "text": [
      "현재 레벨 : 3 베개자세 : CP 판단하는자세 : CP 자세한자세 : CP\n",
      "현재 자세:CP 현재 자세 카운트:16\n"
     ]
    },
    {
     "name": "stderr",
     "output_type": "stream",
     "text": [
      "C:\\Users\\lee\\anaconda3\\Lib\\site-packages\\sklearn\\base.py:465: UserWarning: X does not have valid feature names, but KNeighborsClassifier was fitted with feature names\n",
      "  warnings.warn(\n"
     ]
    },
    {
     "name": "stdout",
     "output_type": "stream",
     "text": [
      "현재 레벨 : 3 베개자세 : CP 판단하는자세 : CP 자세한자세 : CP\n",
      "현재 자세:CP 현재 자세 카운트:16\n"
     ]
    },
    {
     "name": "stderr",
     "output_type": "stream",
     "text": [
      "C:\\Users\\lee\\anaconda3\\Lib\\site-packages\\sklearn\\base.py:465: UserWarning: X does not have valid feature names, but KNeighborsClassifier was fitted with feature names\n",
      "  warnings.warn(\n"
     ]
    },
    {
     "name": "stdout",
     "output_type": "stream",
     "text": [
      "현재 레벨 : 3 베개자세 : CP 판단하는자세 : CP 자세한자세 : CP\n",
      "현재 자세:CP 현재 자세 카운트:16\n"
     ]
    },
    {
     "name": "stderr",
     "output_type": "stream",
     "text": [
      "C:\\Users\\lee\\anaconda3\\Lib\\site-packages\\sklearn\\base.py:465: UserWarning: X does not have valid feature names, but KNeighborsClassifier was fitted with feature names\n",
      "  warnings.warn(\n"
     ]
    },
    {
     "name": "stdout",
     "output_type": "stream",
     "text": [
      "현재 레벨 : 3 베개자세 : CP 판단하는자세 : CP 자세한자세 : CP\n",
      "현재 자세:CP 현재 자세 카운트:16\n"
     ]
    },
    {
     "name": "stderr",
     "output_type": "stream",
     "text": [
      "C:\\Users\\lee\\anaconda3\\Lib\\site-packages\\sklearn\\base.py:465: UserWarning: X does not have valid feature names, but KNeighborsClassifier was fitted with feature names\n",
      "  warnings.warn(\n"
     ]
    },
    {
     "name": "stdout",
     "output_type": "stream",
     "text": [
      "현재 레벨 : 3 베개자세 : CP 판단하는자세 : CP 자세한자세 : CP\n",
      "현재 자세:CP 현재 자세 카운트:16\n"
     ]
    },
    {
     "name": "stderr",
     "output_type": "stream",
     "text": [
      "C:\\Users\\lee\\anaconda3\\Lib\\site-packages\\sklearn\\base.py:465: UserWarning: X does not have valid feature names, but KNeighborsClassifier was fitted with feature names\n",
      "  warnings.warn(\n"
     ]
    },
    {
     "name": "stdout",
     "output_type": "stream",
     "text": [
      "현재 레벨 : 3 베개자세 : CP 판단하는자세 : CP 자세한자세 : CP\n",
      "현재 자세:CP 현재 자세 카운트:16\n"
     ]
    },
    {
     "name": "stderr",
     "output_type": "stream",
     "text": [
      "C:\\Users\\lee\\anaconda3\\Lib\\site-packages\\sklearn\\base.py:465: UserWarning: X does not have valid feature names, but KNeighborsClassifier was fitted with feature names\n",
      "  warnings.warn(\n"
     ]
    },
    {
     "name": "stdout",
     "output_type": "stream",
     "text": [
      "현재 레벨 : 3 베개자세 : CP 판단하는자세 : CP 자세한자세 : CP\n",
      "현재 자세:CP 현재 자세 카운트:16\n"
     ]
    },
    {
     "name": "stderr",
     "output_type": "stream",
     "text": [
      "C:\\Users\\lee\\anaconda3\\Lib\\site-packages\\sklearn\\base.py:465: UserWarning: X does not have valid feature names, but KNeighborsClassifier was fitted with feature names\n",
      "  warnings.warn(\n"
     ]
    },
    {
     "name": "stdout",
     "output_type": "stream",
     "text": [
      "현재 레벨 : 3 베개자세 : CP 판단하는자세 : CP 자세한자세 : CP\n",
      "현재 자세:CP 현재 자세 카운트:16\n"
     ]
    },
    {
     "name": "stderr",
     "output_type": "stream",
     "text": [
      "C:\\Users\\lee\\anaconda3\\Lib\\site-packages\\sklearn\\base.py:465: UserWarning: X does not have valid feature names, but KNeighborsClassifier was fitted with feature names\n",
      "  warnings.warn(\n"
     ]
    },
    {
     "name": "stdout",
     "output_type": "stream",
     "text": [
      "현재 레벨 : 3 베개자세 : CP 판단하는자세 : CP 자세한자세 : CP\n",
      "현재 자세:CP 현재 자세 카운트:16\n"
     ]
    },
    {
     "name": "stderr",
     "output_type": "stream",
     "text": [
      "C:\\Users\\lee\\anaconda3\\Lib\\site-packages\\sklearn\\base.py:465: UserWarning: X does not have valid feature names, but KNeighborsClassifier was fitted with feature names\n",
      "  warnings.warn(\n"
     ]
    },
    {
     "name": "stdout",
     "output_type": "stream",
     "text": [
      "현재 레벨 : 3 베개자세 : CP 판단하는자세 : CP 자세한자세 : CP\n",
      "현재 자세:CP 현재 자세 카운트:16\n",
      "높이변경완료\n",
      "sensor 종료\n",
      "날씨 알람 발송 확인\n",
      "알람발생! 14:32\n",
      "apill 종료\n"
     ]
    }
   ],
   "source": [
    "import paho.mqtt.client as mqtt\n",
    "import pymysql\n",
    "import json\n",
    "from datetime import datetime, timedelta\n",
    "import time\n",
    "import threading\n",
    "import numpy as np\n",
    "import joblib\n",
    "\n",
    "# 쓰레드를 정지시킬 이벤트\n",
    "stop_event = threading.Event()\n",
    "\n",
    "# 머신러닝 모델 불러오기\n",
    "# model_filename = \"posture_model_knn.pkl\"\n",
    "# loaded_model = joblib.load(model_filename)\n",
    "model_filename1 = \"posture_model_knnrepair1.pkl\"\n",
    "loaded_model1 = joblib.load(model_filename1)\n",
    "model_filename2 = \"posture_model_knnf2.pkl\"\n",
    "loaded_model2 = joblib.load(model_filename2)\n",
    "model_filename3 = \"posture_model_knnf3.pkl\"\n",
    "loaded_model3 = joblib.load(model_filename3)\n",
    "model_filename4 = \"posture_model_knnf4.pkl\"\n",
    "loaded_model4 = joblib.load(model_filename4)\n",
    "model_filename5 = \"posture_model_knnf5.pkl\"\n",
    "loaded_model5 = joblib.load(model_filename5)\n",
    "\n",
    "# MySQL 연결 설정\n",
    "connection = pymysql.connect(\n",
    "    host='project-db-campus.smhrd.com',\n",
    "    port=3307,\n",
    "    user='ttap',\n",
    "    password='1234',\n",
    "    database='ttap',\n",
    "    cursorclass=pymysql.cursors.DictCursor\n",
    ")\n",
    "\n",
    "nowposture = None\n",
    "nowlevel = None\n",
    "dplevel = None\n",
    "cplevel = None  \n",
    "nowposture_temp = None\n",
    "nowposture_temp_cnt = 0\n",
    "cnt_check = True\n",
    "\n",
    "# 사용자 설정 높이 조회\n",
    "def check_height():\n",
    "    print(\"check_height\")\n",
    "    global nowposture, nowlevel, dplevel, cplevel, nowposture_temp, nowposture_temp_cnt\n",
    "    try:\n",
    "        with connection.cursor() as cursor:\n",
    "            sql = \"SELECT cplevel, dplevel, nowposture, nowlevel FROM user_settings WHERE member_id = 'test1'\"\n",
    "            cursor.execute(sql)\n",
    "            result = cursor.fetchone()\n",
    "            if result:\n",
    "                nowposture = result['nowposture']\n",
    "                nowlevel = result['nowlevel']\n",
    "                dplevel = result['dplevel']\n",
    "                cplevel = result['cplevel']\n",
    "                nowposture_temp = nowposture\n",
    "                print(f\"로드 완료 : 베개자세 : {nowposture} / 베개레벨 : {nowlevel} / DP레벨 : {dplevel} / CP레벨 : {cplevel} / 현재자세 : {nowposture_temp}\")\n",
    "    except pymysql.Error as e:\n",
    "        print(f\"Error checking height: {e}\")\n",
    "\n",
    "# 사용자 높이 변경\n",
    "def change_height():\n",
    "    print(\"change_height\")\n",
    "    global nowposture, nowlevel, dplevel, cplevel, nowposture_temp, nowposture_temp_cnt, cnt_check\n",
    "    print(f\"변경전 : 베개자세 : {nowposture} / 베개레벨 : {nowlevel} / DP레벨 : {dplevel} / CP레벨 : {cplevel}\")\n",
    "        \n",
    "    air_check = \"\"\n",
    "    air_level = 0\n",
    "\n",
    "    if nowposture == \"DP\":\n",
    "        if dplevel - nowlevel > 0:\n",
    "            air_check = \"in\"\n",
    "            air_level = dplevel - nowlevel\n",
    "        elif dplevel - nowlevel < 0:\n",
    "            air_check = \"out\"\n",
    "            air_level = nowlevel - dplevel\n",
    "        nowlevel = dplevel\n",
    "    elif nowposture == \"CP\":\n",
    "        if cplevel - nowlevel > 0:\n",
    "            air_check = \"in\"\n",
    "            air_level = cplevel - nowlevel\n",
    "        elif cplevel - nowlevel < 0:\n",
    "            air_check = \"out\"\n",
    "            air_level = nowlevel - cplevel\n",
    "        nowlevel = cplevel\n",
    "    \n",
    "    if air_level != 0:\n",
    "        change_nowposlevel()\n",
    "        cnt_check = False\n",
    "        client.publish(\"Apill/height/return\", json.dumps({\"air_check\": air_check, \"air_level\": air_level}))\n",
    "        print(f\"변경후 : 베개레벨 : {nowlevel}\")\n",
    "        \n",
    "    level_check()\n",
    "\n",
    "# 시용자 현재 자세 변경\n",
    "def change_nowposlevel():\n",
    "    print(\"change_nowposlevel\")\n",
    "    global nowposture, nowlevel, dplevel, cplevel, nowposture_temp, nowposture_temp_cnt\n",
    "    try:\n",
    "        # 데이터베이스 업데이트\n",
    "        with connection.cursor() as cursor:\n",
    "            sql = \"UPDATE user_settings SET nowposture = %s, nowlevel = %s WHERE member_id = 'test1'\"\n",
    "            cursor.execute(sql, (nowposture, nowlevel,))\n",
    "            connection.commit()\n",
    "            \n",
    "        print(f\"베개자세 : {nowposture}, 베개레벨 : {nowlevel} 업데이트\")\n",
    "\n",
    "    except (json.JSONDecodeError, KeyError, pymysql.Error) as e:\n",
    "        print(f\"Error changing level: {e}\")\n",
    "        \n",
    "# 사용자 설정 높이 변경 \n",
    "def change_cplevel(payload):\n",
    "    print(\"change_cplevel\")\n",
    "    global nowposture, nowlevel, dplevel, cplevel, nowposture_temp, nowposture_temp_cnt\n",
    "    try:\n",
    "        # 여기에서 필요한 유효성 검사 등을 수행\n",
    "        if json.loads(payload)['index'] == 'change':\n",
    "            new_cplevel = int(json.loads(payload)['level'])\n",
    "        elif json.loads(payload)['index'] == 'plus':\n",
    "            new_cplevel = cplevel + int(json.loads(payload)['level'])\n",
    "        elif json.loads(payload)['index'] == 'minus':\n",
    "            new_cplevel = cplevel - int(json.loads(payload)['level'])\n",
    "\n",
    "        msg = 0\n",
    "        \n",
    "        if cplevel == new_cplevel:\n",
    "            # msg = \"현재 같은 높이입니다.\"\n",
    "            msg = 1\n",
    "        elif cplevel == 5 and new_cplevel > 5:\n",
    "            # msg = \"현재 최대 높이입니다.\"\n",
    "            msg = 2\n",
    "        elif cplevel == 1 and new_cplevel < 1:\n",
    "            # msg = \"현재 최소 높이입니다.\"\n",
    "            msg = 3\n",
    "        else:\n",
    "            if new_cplevel > 5:\n",
    "                # msg = \"최대 높이인 5단계로 변경되었습니다.\"\n",
    "                msg = 4\n",
    "                new_cplevel = 5\n",
    "            elif new_cplevel <= 5 and new_cplevel >= 1:\n",
    "                # msg = str(new_cplevel) + \"단계로 변경되었습니다.\"\n",
    "                msg = 5\n",
    "            elif new_cplevel < 1:\n",
    "                # msg = \"최소 높이인 1단계로 변경되었습니다.\"\n",
    "                msg = 6\n",
    "                new_cplevel = 1\n",
    "\n",
    "            # 데이터베이스 업데이트\n",
    "            with connection.cursor() as cursor:\n",
    "                sql = \"UPDATE user_settings SET cplevel = %s WHERE member_id = 'test1'\"\n",
    "                cursor.execute(sql, (new_cplevel,))\n",
    "                connection.commit()\n",
    " \n",
    "            cplevel = new_cplevel\n",
    "            change_height()\n",
    "            print(f\"CP 레벨 업데이트: {cplevel}\")\n",
    "            \n",
    "        client.publish(\"Apill/height/return/msg\", json.dumps({\"msg\" : msg, \"level\" : str(cplevel)}, default=str))\n",
    "\n",
    "    except (json.JSONDecodeError, KeyError, pymysql.Error) as e:\n",
    "        print(f\"Error changing CP level: {e}\")\n",
    "\n",
    "def change_dplevel(payload):\n",
    "    print(\"change_dplevel\")\n",
    "    global nowposture, nowlevel, dplevel, cplevel, nowposture_temp, nowposture_temp_cnt\n",
    "    try:\n",
    "        # 여기에서 필요한 유효성 검사 등을 수행\n",
    "        if json.loads(payload)['index'] == 'change':\n",
    "            new_dplevel = int(json.loads(payload)['level'])\n",
    "        elif json.loads(payload)['index'] == 'plus':\n",
    "            new_dplevel = dplevel + int(json.loads(payload)['level'])\n",
    "        elif json.loads(payload)['index'] == 'minus':\n",
    "            new_dplevel = dplevel - int(json.loads(payload)['level'])\n",
    "            \n",
    "        msg = 0\n",
    "        \n",
    "        if dplevel == new_dplevel:\n",
    "            # msg = \"현재 같은 높이입니다.\"\n",
    "            msg = 1\n",
    "        elif dplevel == 5 and new_dplevel > 5:\n",
    "            # msg = \"현재 최대 높이입니다.\"\n",
    "            msg = 2\n",
    "        elif dplevel == 1 and new_dplevel < 1:\n",
    "            # msg = \"현재 최소 높이입니다.\"\n",
    "            msg = 3\n",
    "        else:\n",
    "            if new_dplevel > 5:\n",
    "                # msg = \"최대 높이인 5단계로 변경되었습니다.\"\n",
    "                msg = 4\n",
    "                new_dplevel = 5\n",
    "            elif new_dplevel <= 5 and new_dplevel >= 1:\n",
    "                # msg = str(new_cplevel) + \"단계로 변경되었습니다.\"\n",
    "                msg = 5\n",
    "            elif new_dplevel < 1:\n",
    "                # msg = \"최소 높이인 1단계로 변경되었습니다.\"\n",
    "                msg = 6\n",
    "                new_dplevel = 1\n",
    "            \n",
    "            # 데이터베이스 업데이트\n",
    "            with connection.cursor() as cursor:\n",
    "                sql = \"UPDATE user_settings SET dplevel = %s WHERE member_id = 'test1'\"\n",
    "                cursor.execute(sql, (new_dplevel,))\n",
    "                connection.commit()\n",
    "\n",
    "            dplevel = new_dplevel\n",
    "            change_height()\n",
    "            print(f\"DP 레벨 업데이트: {dplevel}\")\n",
    "\n",
    "        client.publish(\"Apill/height/return/msg\", json.dumps({\"msg\" : msg, \"level\" : str(dplevel)}, default=str))\n",
    "\n",
    "    except (json.JSONDecodeError, KeyError, pymysql.Error) as e:\n",
    "        print(f\"Error changing DP level: {e}\")\n",
    "        \n",
    "def change_level(payload):\n",
    "    print(\"change_level\")\n",
    "    global nowposture, nowlevel, dplevel, cplevel, nowposture_temp, nowposture_temp_cnt\n",
    "    try:\n",
    "        new_dplevel = int(json.loads(payload)['DP'])\n",
    "        new_cplevel = int(json.loads(payload)['CP'])\n",
    "        \n",
    "        if new_dplevel == dplevel:\n",
    "            pass\n",
    "        else:\n",
    "            # dp 레벨이 변경되었습니다.\n",
    "            pass\n",
    "        if new_cplevel == cplevel:\n",
    "            pass\n",
    "        else:\n",
    "            # cp 레벨이 변경되었습니다.\n",
    "            pass\n",
    "        \n",
    "        # 데이터베이스 업데이트\n",
    "        with connection.cursor() as cursor:\n",
    "            sql = \"UPDATE user_settings SET dplevel = %s, cplevel = %s WHERE member_id = 'test1'\"\n",
    "            cursor.execute(sql, (new_dplevel, new_cplevel,))\n",
    "            connection.commit()\n",
    "\n",
    "        dplevel = new_dplevel\n",
    "        cplevel = new_cplevel\n",
    "        change_height()\n",
    "\n",
    "#         client.publish(\"Apill/App/height/return\", json.dumps({\"msg\" : msg, \"level\" : str(dplevel)}, default=str))\n",
    "\n",
    "    except (json.JSONDecodeError, KeyError, pymysql.Error) as e:\n",
    "        print(f\"Error changing DP level: {e}\")\n",
    "        \n",
    "def level_check():\n",
    "    print(\"level_check\")\n",
    "    global nowposture, nowlevel, dplevel, cplevel, nowposture_temp, nowposture_temp_cnt\n",
    "    try:\n",
    "        client.publish(\"Apill/App/height/return\", json.dumps({\"nowposture\" : nowposture, \"nowlevel\" : nowlevel, \"dplevel\" : dplevel, \"cplevel\" : cplevel}, default=str))\n",
    "    except (json.JSONDecodeError, KeyError, pymysql.Error) as e:\n",
    "        print(f\"Error changing DP level: {e}\")\n",
    "        \n",
    "\n",
    "log_posture = \"\"\n",
    "log_starttime = None\n",
    "# 자세 로그       \n",
    "def record_posture_change(posture_type):\n",
    "    try:\n",
    "        global nowposture, log_posture, log_starttime\n",
    "\n",
    "        if log_posture != \"\":\n",
    "            log_endttime = datetime.now().strftime(\"%Y-%m-%d %H:%M:%S\")\n",
    "\n",
    "            with connection.cursor() as cursor:\n",
    "                sql = \"UPDATE posture_history SET end_time = %s WHERE member_id = 'test1' AND start_time = %s AND end_time IS NULL\"\n",
    "                cursor.execute(sql, (log_endttime, log_starttime))\n",
    "                connection.commit()\n",
    "                \n",
    "        # 자세가 변경되었을 때 시작 시간 기록\n",
    "        if log_posture != nowposture:\n",
    "            log_posture = nowposture\n",
    "            log_starttime = datetime.now().strftime(\"%Y-%m-%d %H:%M:%S\")\n",
    "            \n",
    "            with connection.cursor() as cursor:\n",
    "                sql = \"INSERT INTO posture_history (member_id, posture, start_time) VALUES (%s, %s, %s)\"\n",
    "                cursor.execute(sql, ('test1', log_posture, log_starttime))\n",
    "                connection.commit()    \n",
    "\n",
    "                \n",
    "    except Exception as e:\n",
    "        print(f\"자세 변경 기록 중 오류 발생: {e}\")\n",
    "\n",
    "        \n",
    "def process_sensor_data(payload):\n",
    "    global nowposture, nowlevel, dplevel, cplevel, nowposture_temp, nowposture_temp_cnt, cnt_check, sensor_check\n",
    "    try:\n",
    "        \n",
    "        if sensor_check:\n",
    "        \n",
    "            # 문자열을 쉼표로 분할하고 양쪽 공백 제거\n",
    "            sensor_values = [value.strip() for value in payload.replace('\"', '').split(',') if value.strip()]\n",
    "\n",
    "            if len(sensor_values) == 32:\n",
    "                # 모든 값을 실수로 변환\n",
    "                sensor_values = list(map(float, sensor_values))\n",
    "\n",
    "                # NumPy 배열로 변환하고 reshape\n",
    "                input_data = np.array(sensor_values).reshape(1, -1)\n",
    "\n",
    "                # 예측\n",
    "    #             predicted_label = loaded_model.predict(input_data)[0]\n",
    "\n",
    "                if nowlevel == 1:\n",
    "                    predicted_label = loaded_model1.predict(input_data)[0]\n",
    "                elif nowlevel == 2:\n",
    "                    predicted_label = loaded_model2.predict(input_data)[0]\n",
    "                elif nowlevel == 3:\n",
    "                    predicted_label = loaded_model3.predict(input_data)[0]\n",
    "                elif nowlevel == 4:\n",
    "                    predicted_label = loaded_model4.predict(input_data)[0]\n",
    "                elif nowlevel == 5:\n",
    "                    predicted_label = loaded_model5.predict(input_data)[0]\n",
    "\n",
    "                # 현재 시간 가져오기\n",
    "                current_time = datetime.now().strftime(\"%H:%M\")\n",
    "\n",
    "                print(f\"현재 레벨 : {nowlevel} 베개자세 : {nowposture} 판단하는자세 : {predicted_label[-2:]} 자세한자세 : {predicted_label}\")\n",
    "\n",
    "                # 분류 결과 확인\n",
    "                if predicted_label[-2:] == 'DP':\n",
    "                    if nowposture_temp != 'DP':\n",
    "                        nowposture_temp = 'DP'\n",
    "                        nowposture_temp_cnt = 0\n",
    "                    elif nowposture_temp == 'DP':\n",
    "                        if cnt_check:\n",
    "                            nowposture_temp_cnt += 1\n",
    "                        if nowposture_temp_cnt == 4:\n",
    "                            nowposture = 'DP'\n",
    "                            change_height()\n",
    "                            print(\"DP 높이 변경\")\n",
    "                            record_posture_change('DP')\n",
    "                    print(f\"현재 자세:{nowposture_temp} 현재 자세 카운트:{nowposture_temp_cnt}\")\n",
    "\n",
    "                elif predicted_label[-2:] == 'CP':\n",
    "                    if nowposture_temp != 'CP':\n",
    "                        nowposture_temp = 'CP'\n",
    "                        nowposture_temp_cnt = 0\n",
    "                    elif nowposture_temp == 'CP':\n",
    "                        if cnt_check:\n",
    "                            nowposture_temp_cnt += 1\n",
    "                        if nowposture_temp_cnt == 4:\n",
    "                            nowposture = 'CP'\n",
    "                            change_height()\n",
    "                            print(\"CP 높이 변경\")\n",
    "                            record_posture_change('CP')\n",
    "                    print(f\"현재 자세:{nowposture_temp} 현재 자세 카운트:{nowposture_temp_cnt}\")\n",
    "\n",
    "    except Exception as e:\n",
    "        print(f\"Error processing sensor data: {e}\")\n",
    "\n",
    "# 알람 목록을 저장할 리스트\n",
    "alarms = []\n",
    "alarm_sendtime = ''\n",
    "\n",
    "# 알람 목록 조회 함수\n",
    "def get_alarms():\n",
    "    print(\"get_alarms\")\n",
    "    global alarms\n",
    "    try:\n",
    "        with connection.cursor() as cursor:\n",
    "            # 알람 목록을 데이터베이스에서 조회\n",
    "            sql = \"SELECT id, time, isOn, isSelected FROM alarms\"\n",
    "            cursor.execute(sql)\n",
    "            alarms = cursor.fetchall()\n",
    "\n",
    "        # datetime 객체를 문자열로 변환 또는 None인 경우 그대로 둠\n",
    "        for alarm in alarms:\n",
    "            if isinstance(alarm['time'], datetime):\n",
    "                alarm['time'] = alarm['time'].strftime(\"%H:%M\")\n",
    "                \n",
    "        print(alarms)\n",
    "\n",
    "    except pymysql.Error as e:\n",
    "        print(f\"Error getting alarms: {e}\")\n",
    "            \n",
    "# 알람 추가 함수\n",
    "def add_alarm(payload):\n",
    "    print(\"add_alarm\")\n",
    "    try:\n",
    "        alarm_data = json.loads(payload)\n",
    "        with connection.cursor() as cursor:\n",
    "            # 알람 정보를 데이터베이스에 추가\n",
    "            sql = \"INSERT INTO alarms (time, isOn, isSelected) VALUES (%s, %s, %s)\"\n",
    "            cursor.execute(sql, (alarm_data['time'], alarm_data['isOn'], alarm_data['isSelected']))\n",
    "            connection.commit()\n",
    "        get_alarms()\n",
    "        print(f\"알람 추가: {alarm_data}\")\n",
    "    except (json.JSONDecodeError, pymysql.Error) as e:\n",
    "        print(f\"Error adding alarm: {e}\")\n",
    "\n",
    "# 알람 수정 함수\n",
    "def update_alarm(payload):\n",
    "    print(\"update_alarm\")\n",
    "    try:\n",
    "        alarm_data = json.loads(payload)\n",
    "        with connection.cursor() as cursor:\n",
    "            # 알람 정보를 데이터베이스에서 수정\n",
    "            sql = \"UPDATE alarms SET time=%s, isOn=%s, isSelected=%s WHERE id=%s\"\n",
    "            cursor.execute(sql, (alarm_data['time'], alarm_data['isOn'], alarm_data['isSelected'], alarm_data['id']))\n",
    "            connection.commit()\n",
    "        get_alarms()\n",
    "        print(f\"알람 업데이트: {alarm_data}\")\n",
    "    except (json.JSONDecodeError, pymysql.Error) as e:\n",
    "        print(f\"Error updating alarm: {e}\")\n",
    "\n",
    "# 알람 삭제 함수\n",
    "def delete_alarm(payload):\n",
    "    print(\"delete_alarm\")\n",
    "    try:\n",
    "        alarm_id = json.loads(payload)['id']\n",
    "        with connection.cursor() as cursor:\n",
    "            # 알람 정보를 데이터베이스에서 삭제\n",
    "            sql = \"DELETE FROM alarms WHERE id=%s\"\n",
    "            cursor.execute(sql, (alarm_id,))\n",
    "            connection.commit()\n",
    "        get_alarms()\n",
    "        print(f\"알람 삭제: {alarm_id}\")\n",
    "    except (json.JSONDecodeError, pymysql.Error) as e:\n",
    "        print(f\"Error deleting alarm: {e}\") \n",
    "\n",
    "# 알람 조회 함수\n",
    "def send_alarm():\n",
    "    print(\"send_alarm\")\n",
    "    try:\n",
    "        global alarms\n",
    "        client.publish(\"Apill/alarm/Appreturn\", json.dumps(alarms, default=str))\n",
    "    except pymysql.Error as e:\n",
    "        print(f\"Error getting alarms: {e}\")\n",
    "        \n",
    "# 날씨 알람 함수\n",
    "# def \n",
    "        \n",
    "# SQL 문을 실행하고 결과를 MQTT로 전송하는 함수\n",
    "def execute_sql_query(sql_query):\n",
    "#     print(\"execute_sql_query\")\n",
    "    try:\n",
    "        with connection.cursor() as cursor:\n",
    "            # SQL 실행\n",
    "            cursor.execute(sql_query)\n",
    "            # 결과 가져오기\n",
    "            result = cursor.fetchall() \n",
    "            # 결과를 MQTT 토픽에 전송\n",
    "            client.publish(\"Apill/sql/return\", json.dumps(result, default=str))\n",
    "#         print(f\"sql문 전송완료 {result}\")\n",
    "    except pymysql.Error as e:\n",
    "        error_message = f\"Error executing SQL: {e}\"\n",
    "        print(error_message)\n",
    "        client.publish(\"Apill/sql/return\", json.dumps(error_message, default=str))\n",
    "\n",
    "# 회원가입\n",
    "def insert_join(payload):\n",
    "    try:\n",
    "        # alarm_id = json.loads(payload)['id']\n",
    "        member_data = json.loads(payload)\n",
    "        \n",
    "        with connection.cursor() as cursor:\n",
    "            # SQL 실행\n",
    "            sql = '''\n",
    "                    INSERT INTO members (\n",
    "                        member_id, member_pw, member_name, member_birth, \n",
    "                        member_weight, member_height, member_gender, member_age\n",
    "                    ) VALUES (\n",
    "                        %s, %s, %s, %s, %s, %s, %s, %s\n",
    "                    )\n",
    "                    '''\n",
    "            print(bytes(member_data['name']).decode('utf-8'))\n",
    "            cursor.execute(sql,(\n",
    "                member_data['id'],\n",
    "                member_data['pw'],\n",
    "                bytes(member_data['name']).decode('utf-8'),\n",
    "                member_data['birth'],\n",
    "                member_data['weight'],\n",
    "                member_data['height'],\n",
    "                member_data['gender'],\n",
    "                member_data['age']\n",
    "            ))\n",
    "            \n",
    "            connection.commit()\n",
    "            # 영향 받은 행의 수 확인\n",
    "            affected_rows = cursor.rowcount\n",
    "            \n",
    "            # 결과를 MQTT 토픽에 전송\n",
    "            json_result = json.dumps(affected_rows, default=str)\n",
    "            print(f\"SQL Query Result: {json_result}\")\n",
    "            client.publish(\"Apill/join/return\", json_result)\n",
    "    except pymysql.Error as e:\n",
    "        error_message = f\"Error executing SQL: {e}\"\n",
    "        print(error_message)\n",
    "        client.publish(\"Apill/join/return\", json.dumps(error_message, default=str))\n",
    "        \n",
    "# 회원가입 아이디 중복 검사\n",
    "def join_id_check(payload):\n",
    "    try:\n",
    "        print(payload)\n",
    "        user_id = json.loads(payload)['id']\n",
    "        sql = 'select count(*) from members where member_id = %s'\n",
    "        with connection.cursor() as cursor:\n",
    "            # SQL 실행\n",
    "            cursor.execute(sql,(user_id))\n",
    "            # 결과 가져오기\n",
    "            result = cursor.fetchall()\n",
    "            # 결과를 MQTT 토픽에 전송\n",
    "            json_result = json.dumps(result, default=str)\n",
    "            print(f\"SQL Query Result: {json_result}\")\n",
    "            client.publish(\"Apill/join/idcheck/return\", json_result)\n",
    "    except pymysql.Error as e:\n",
    "        error_message = f\"Error executing SQL: {e}\"\n",
    "        print(error_message)\n",
    "        client.publish(\"Apill/join/idcheck/return\", json.dumps(error_message, default=str))  \n",
    "        \n",
    "# 프로필 불러오기\n",
    "def load_profile(payload):\n",
    "    try:\n",
    "        id_data = json.loads(payload)\n",
    "        with connection.cursor() as cursor:\n",
    "            # 알람 정보를 데이터베이스에 추가\n",
    "            sql = \"select * from members where id = %s\"\n",
    "            cursor.execute(sql, (id_data['id']))\n",
    "            profile_data = cursor.fetchall()\n",
    "            \n",
    "            client.publish(\"Apill/user/profile/return\", profile_data)\n",
    "        print(f\"id_profile: {id_data}\")\n",
    "    except (json.JSONDecodeError, pymysql.Error) as e:\n",
    "        print(f\"Error load_profile: {e}\")\n",
    "\n",
    "apill_check = False\n",
    "apill_check_time = None\n",
    "app_check = False\n",
    "app_check_time = None\n",
    "\n",
    "sensor_check = False\n",
    "sensor_check_start = datetime.now()\n",
    "sensor_check_end = datetime.now()\n",
    "\n",
    "alarm_music_num = 1\n",
    "\n",
    "# 주기적으로 체크하는 함수\n",
    "def check_and_trigger():\n",
    "    global alarms, alarm_sendtime, apill_check, app_check, sensor_check, sensor_check_start, sensor_check_end, apill_check_time, app_check_time, nowposture_temp_cnt, alarm_music_num\n",
    "    while not stop_event.is_set():\n",
    "        try:\n",
    "            current_time = datetime.now()\n",
    "#             apill_time_difference = 0\n",
    "#             app_time_difference = 0\n",
    "            # apill_check\n",
    "            if apill_check:\n",
    "                apill_check_time_datetime = datetime.strptime(apill_check_time, \"%Y-%m-%d %H:%M:%S\")\n",
    "                apill_time_difference = current_time - apill_check_time_datetime\n",
    "                if apill_time_difference.total_seconds() >= 25:\n",
    "                    print(\"apill 종료\")\n",
    "                    apill_check = False\n",
    "                else:\n",
    "                    client.publish(\"Apill/RB/powercheck/return\", json.dumps(\"powercheck\", default=str))\n",
    "                    \n",
    "#             if app_check:\n",
    "#                 app_check_time_datetime = datetime.strptime(app_check_time, \"%Y-%m-%d %H:%M:%S\")\n",
    "#                 app_time_difference = current_time - app_check_time_datetime\n",
    "#                 if app_time_difference.total_seconds() >= 25:\n",
    "#                     print(\"app 종료\")\n",
    "#                     app_check = False\n",
    "#                 else:\n",
    "#                     client.publish(\"Apill/App/powercheck/return\")\n",
    "              \n",
    "            alarm_weather_check = False\n",
    "#             alarm_weather_difference = 0\n",
    "            \n",
    "            # 현재 시간을 확인하고 알람이 발생해야 하는지 여부를 판단\n",
    "            alarm_current_time = datetime.now().strftime(\"%H:%M\")  # 초 부분을 0으로 만듦\n",
    "            for alarm in alarms:\n",
    "                if alarm_sendtime != alarm_current_time:\n",
    "                    alarm_time = alarm['time']\n",
    "                    if alarm_time == alarm_current_time and alarm['isOn']:\n",
    "                        print(f\"알람발생! {alarm['time']}\")\n",
    "                        # / {alarm['index']}\n",
    "                        client.publish(\"Apill/alarm/RBreturn\", json.dumps({\"msg\" : alarm_music_num}, default=str))\n",
    "                        if alarm_music_num == 5:\n",
    "                            alarm_music_num = 1\n",
    "                        else:\n",
    "                            alarm_music_num += 1\n",
    "                        alarm_sendtime = alarm_time\n",
    "#                 alarm_weather_difference = abs(alarm_current_time - datetime.strptime(alarm_time, \"%H:%M\"))\n",
    "#                 print(alarm_weather_difference)\n",
    "                alarm_weather_time = datetime.strptime(alarm_time, \"%H:%M\")\n",
    "                alarm_weather_start = current_time - timedelta(minutes=10)\n",
    "                alarm_weather_end = current_time + timedelta(minutes=10)\n",
    "                if alarm_weather_start.time() <= alarm_weather_time.time() <= alarm_weather_end.time():\n",
    "                    alarm_weather_check = True\n",
    "                else:\n",
    "                    alarm_weather_check = False\n",
    "                    \n",
    "            # 센서값 들어온 시간 체크\n",
    "            sensor_time_difference = sensor_check_end - sensor_check_start\n",
    "            if sensor_check:\n",
    "                if (current_time - sensor_check_end).total_seconds() >= 10:\n",
    "                    print(\"sensor 종료\")\n",
    "                    sensor_time_difference = sensor_check_end - sensor_check_start\n",
    "                    sensor_check = False\n",
    "                    sensor_check_start = datetime.now()\n",
    "                    sensor_check_end = datetime.now()\n",
    "                    nowposture_temp_cnt = 0\n",
    "                    # 날씨 알람 발송\n",
    "                    if alarm_weather_check == True and sensor_check == False and sensor_time_difference.total_seconds() >= 10:\n",
    "                        print(\"날씨 알람 발송 확인\")\n",
    "                        client.publish(\"Apill/RB/weather/return\", json.dumps(\"alarmend\", default=str))\n",
    "                    \n",
    "\n",
    "            \n",
    "            time.sleep(5)  # 5초\n",
    "        except Exception as e:\n",
    "            print(f\"Error in periodically: {e}\")\n",
    "\n",
    "# MQTT 브로커 설정\n",
    "broker_address = \"192.168.148.146\"\n",
    "broker_port = 1883\n",
    "\n",
    "# MQTT 클라이언트 생성\n",
    "client = mqtt.Client()\n",
    "\n",
    "# MQTT 연결 시 호출되는 콜백 함수\n",
    "def on_connect(client, userdata, flags, rc):\n",
    "#     print(f\"Connected with result code {rc}\")\n",
    "    \n",
    "    # 토픽 구독\n",
    "    # 온오프 체크\n",
    "    client.subscribe(\"Apill/RB/powercheck\")\n",
    "    client.subscribe(\"Apill/App/powercheck\")\n",
    "    \n",
    "    # 센서값\n",
    "    client.subscribe(\"Apill/RB/sensor\")\n",
    "#     client.subscribe(\"Apill/sleepposture\")\n",
    "\n",
    "    # 알람\n",
    "    client.subscribe(\"Apill/alarm/add\")\n",
    "    client.subscribe(\"Apill/alarm/update\")\n",
    "    client.subscribe(\"Apill/alarm/delete\")\n",
    "    client.subscribe(\"Apill/alarm/get\")\n",
    "    client.subscribe(\"Apill/alarm/check\")\n",
    "    \n",
    "    # 높이변경\n",
    "    client.subscribe(\"Apill/height\")\n",
    "    \n",
    "    # 높이완료\n",
    "    client.subscribe(\"Apill/height/complete\")\n",
    "    \n",
    "    # App 높이 변경\n",
    "    client.subscribe(\"Apill/App/height\")\n",
    "    \n",
    "    # sql문 처리\n",
    "    client.subscribe(\"Apill/sql\")\n",
    "    \n",
    "    # 회원가입\n",
    "    client.subscribe('Apill/join')\n",
    "    client.subscribe('Apill/join/idcheck')\n",
    "    \n",
    "    # 프로필\n",
    "    client.subscribe('Apill/user/profile')\n",
    "    \n",
    "# MQTT 메시지 수신 시 호출되는 콜백 함수\n",
    "def on_message(client, userdata, msg):\n",
    "    global apill_check, apill_check_time, app_check, app_check_time, sensor_check, sensor_check_start, sensor_check_end, cnt_check\n",
    "\n",
    "#     print(f\"받은 메세지: {msg.payload.decode('utf-8')}\")\n",
    "\n",
    "    # 센서값 처리\n",
    "    if msg.topic == \"Apill/RB/sensor\":\n",
    "        if sensor_check == False:\n",
    "            print(\"sensor 시작\")\n",
    "            sensor_check = True\n",
    "            sensor_check_start = datetime.now()\n",
    "        sensor_check_end = datetime.now()\n",
    "            \n",
    "        process_sensor_data(msg.payload.decode('utf-8'))\n",
    "        \n",
    "    # 전원 체크\n",
    "    elif msg.topic == \"Apill/RB/powercheck\":\n",
    "        if apill_check == False:\n",
    "            print(\"apill 시작\")\n",
    "            apill_check = True\n",
    "        apill_check_time = datetime.now().strftime(\"%Y-%m-%d %H:%M:%S\")\n",
    "#         print(f\"Apill/RB/powercheck {apill_check_time}\")\n",
    "    elif msg.topic == \"Apill/App/powercheck\":\n",
    "        if app_check == False:\n",
    "            print(\"app 시작\")\n",
    "#             level_check()\n",
    "            app_check = True\n",
    "        level_check()\n",
    "        app_check_time = datetime.now().strftime(\"%Y-%m-%d %H:%M:%S\")\n",
    "        client.publish(\"Apill/App/powercheck/return\")\n",
    "#         print(f\"Apill/App/powercheck {app_check_time}\")\n",
    "\n",
    "    # 알람 목록 조회 메시지 처리\n",
    "    elif msg.topic == \"Apill/alarm/get\":\n",
    "        get_alarms()\n",
    "    elif msg.topic == \"Apill/alarm/check\":\n",
    "        send_alarm()\n",
    "    # 알람 추가 메시지 처리\n",
    "    elif msg.topic == \"Apill/alarm/add\":\n",
    "        add_alarm(msg.payload.decode('utf-8'))\n",
    "        send_alarm()\n",
    "    # 알람 수정 메시지 처리\n",
    "    elif msg.topic == \"Apill/alarm/update\":\n",
    "        update_alarm(msg.payload.decode('utf-8'))\n",
    "        send_alarm()\n",
    "    # 알람 삭제 메시지 처리\n",
    "    elif msg.topic == \"Apill/alarm/delete\":\n",
    "        delete_alarm(msg.payload.decode('utf-8'))\n",
    "        send_alarm()\n",
    "        \n",
    "    # 높이\n",
    "    elif msg.topic == \"Apill/height\":\n",
    "        if nowposture == \"DP\":\n",
    "            change_dplevel(msg.payload.decode('utf-8'))\n",
    "        elif nowposture == \"CP\":\n",
    "            change_cplevel(msg.payload.decode('utf-8'))\n",
    "            \n",
    "    # 높이 완료\n",
    "    elif msg.topic == \"Apill/height/complete\":\n",
    "        print(\"높이변경완료\")\n",
    "        cnt_check = True\n",
    "            \n",
    "    # 앱 높이\n",
    "    elif msg.topic == \"Apill/App/height\":\n",
    "        \n",
    "        change_level(msg.payload.decode('utf-8'))\n",
    "\n",
    "    # SQL 문을 받아서 실행하고 결과를 MQTT로 전송\n",
    "    elif msg.topic == \"Apill/sql\":\n",
    "        execute_sql_query(msg.payload.decode('utf-8'))\n",
    "        \n",
    "    # 회원가입\n",
    "    elif msg.topic == \"Apill/join\":\n",
    "        insert_join(msg.payload.decode('utf-8'))\n",
    "    elif msg.topic == \"Apill/join/idcheck\":\n",
    "        join_id_check(msg.payload.decode('utf-8'))\n",
    "\n",
    "# MQTT 클라이언트에 콜백 함수 등록\n",
    "client.on_connect = on_connect\n",
    "client.on_message = on_message\n",
    "\n",
    "# MQTT 브로커에 연결\n",
    "client.connect(broker_address, broker_port, 60)\n",
    "\n",
    "check_height()\n",
    "change_height()\n",
    "get_alarms()\n",
    "\n",
    "# 시작\n",
    "# 주기적으로 확인하는 쓰레드 시작\n",
    "alarm_thread = threading.Thread(target=check_and_trigger)\n",
    "alarm_thread.start()\n",
    "\n",
    "# 브로커 서버 루프 시작\n",
    "try:\n",
    "    client.loop_forever()\n",
    "except KeyboardInterrupt:\n",
    "    print(\"KeyboardInterrupt: Stopping threads and disconnecting MQTT.\")\n",
    "    stop_event.set()  # 쓰레드 종료를 위해 이벤트 설정\n",
    "    alarm_thread.join()  # 쓰레드 종료 대기\n",
    "    client.disconnect()  # MQTT 연결 종료\n",
    "except Exception as e:\n",
    "    print(f\"Unhandled exception: {e}\")\n",
    "\n",
    "print(\"Exiting program.\")"
   ]
  },
  {
   "cell_type": "code",
   "execution_count": null,
   "id": "0ffcc349",
   "metadata": {},
   "outputs": [],
   "source": []
  },
  {
   "cell_type": "code",
   "execution_count": null,
   "id": "c21733c1",
   "metadata": {},
   "outputs": [],
   "source": []
  }
 ],
 "metadata": {
  "kernelspec": {
   "display_name": "Python 3 (ipykernel)",
   "language": "python",
   "name": "python3"
  },
  "language_info": {
   "codemirror_mode": {
    "name": "ipython",
    "version": 3
   },
   "file_extension": ".py",
   "mimetype": "text/x-python",
   "name": "python",
   "nbconvert_exporter": "python",
   "pygments_lexer": "ipython3",
   "version": "3.11.4"
  }
 },
 "nbformat": 4,
 "nbformat_minor": 5
}
